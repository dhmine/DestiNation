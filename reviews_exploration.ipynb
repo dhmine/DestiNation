{
 "cells": [
  {
   "cell_type": "code",
   "execution_count": 3,
   "metadata": {
    "collapsed": true
   },
   "outputs": [],
   "source": [
    "import pandas as pd\n",
    "from ast import literal_eval\n",
    "import nltk\n",
    "from nltk.corpus import stopwords\n",
    "from nltk.tokenize import word_tokenize\n",
    "from nltk.stem.wordnet import WordNetLemmatizer"
   ]
  },
  {
   "cell_type": "code",
   "execution_count": 4,
   "outputs": [
    {
     "name": "stderr",
     "output_type": "stream",
     "text": [
      "[nltk_data] Downloading package stopwords to\n",
      "[nltk_data]     C:\\Users\\BAAMARA\\AppData\\Roaming\\nltk_data...\n",
      "[nltk_data]   Package stopwords is already up-to-date!\n",
      "[nltk_data] Downloading package punkt to\n",
      "[nltk_data]     C:\\Users\\BAAMARA\\AppData\\Roaming\\nltk_data...\n",
      "[nltk_data]   Package punkt is already up-to-date!\n",
      "[nltk_data] Downloading package wordnet to\n",
      "[nltk_data]     C:\\Users\\BAAMARA\\AppData\\Roaming\\nltk_data...\n",
      "[nltk_data]   Package wordnet is already up-to-date!\n",
      "[nltk_data] Downloading package omw-1.4 to\n",
      "[nltk_data]     C:\\Users\\BAAMARA\\AppData\\Roaming\\nltk_data...\n",
      "[nltk_data]   Package omw-1.4 is already up-to-date!\n"
     ]
    },
    {
     "data": {
      "text/plain": "True"
     },
     "execution_count": 4,
     "metadata": {},
     "output_type": "execute_result"
    }
   ],
   "source": [
    "nltk.download('stopwords')\n",
    "nltk.download('punkt')\n",
    "nltk.download('wordnet')\n",
    "nltk.download('omw-1.4')\n"
   ],
   "metadata": {
    "collapsed": false,
    "pycharm": {
     "name": "#%%\n"
    }
   }
  },
  {
   "cell_type": "code",
   "execution_count": 5,
   "outputs": [],
   "source": [
    "sw = stopwords.words('english') # List of predefined english  stopwords to be used for computing\n",
    "lemm = WordNetLemmatizer() # We now define the functions below connecting these imported packages"
   ],
   "metadata": {
    "collapsed": false,
    "pycharm": {
     "name": "#%%\n"
    }
   }
  },
  {
   "cell_type": "code",
   "execution_count": 6,
   "outputs": [],
   "source": [
    "# todo remove punctuation python"
   ],
   "metadata": {
    "collapsed": false,
    "pycharm": {
     "name": "#%%\n"
    }
   }
  },
  {
   "cell_type": "code",
   "execution_count": 7,
   "outputs": [],
   "source": [
    "data = pd.read_excel('reviews.xlsx', sheet_name='Sheet1')"
   ],
   "metadata": {
    "collapsed": false,
    "pycharm": {
     "name": "#%%\n"
    }
   }
  },
  {
   "cell_type": "code",
   "execution_count": 8,
   "outputs": [
    {
     "data": {
      "text/plain": "   Unnamed: 0.1  Unnamed: 0                 hotel_name  id_review  \\\n0             0           0  AC Hotel by Marriott Nice  858676765   \n1             1           1  AC Hotel by Marriott Nice  852510704   \n2             2           2  AC Hotel by Marriott Nice  855890988   \n3             3           3  AC Hotel by Marriott Nice  855208450   \n4             4           4  AC Hotel by Marriott Nice  854313007   \n\n                                     title      date  \\\n0                         The best in nice     Sep 6   \n1                            Great service  Aug 2022   \n2              Good location, unclean room  Aug 2022   \n3                            No beach beds  Aug 2022   \n4  Unclean room, terrible customer service  Aug 2022   \n\n                     location        user_name                 user_link  \\\n0         Burbank, California  armenianburbank  /Profile/armenianburbank   \n1  L'Orignal, Ontario, Canada          Steve C    /Profile/P6582SZstevec   \n2  Amsterdam, The Netherlands          Tracy B           /Profile/TryBry   \n3            Disneyland Paris           Kiki Y          /Profile/77kikiy   \n4                         NaN            Jac W          /Profile/464jacw   \n\n   date_of_stay  rating                                             review  \\\n0   August 2022       4  The best thing about this hotel was the manage...   \n1   August 2022       5  The checkin was easy and swift. Breakfast had ...   \n2   August 2022       3  Pros: Location, black out curtains, friendly s...   \n3   August 2022       2  The advertisement that they have beachbeds ava...   \n4     July 2022       1  Had an incredibly frustrating experience and p...   \n\n   rating_review  n_review_user  n_votes_review score_lang  is_bad_review  \n0              4             34              21         en              1  \n1              5             23              27         en              0  \n2              3              1               1         en              1  \n3              2             26              22         en              1  \n4              1              1               1         en              1  ",
      "text/html": "<div>\n<style scoped>\n    .dataframe tbody tr th:only-of-type {\n        vertical-align: middle;\n    }\n\n    .dataframe tbody tr th {\n        vertical-align: top;\n    }\n\n    .dataframe thead th {\n        text-align: right;\n    }\n</style>\n<table border=\"1\" class=\"dataframe\">\n  <thead>\n    <tr style=\"text-align: right;\">\n      <th></th>\n      <th>Unnamed: 0.1</th>\n      <th>Unnamed: 0</th>\n      <th>hotel_name</th>\n      <th>id_review</th>\n      <th>title</th>\n      <th>date</th>\n      <th>location</th>\n      <th>user_name</th>\n      <th>user_link</th>\n      <th>date_of_stay</th>\n      <th>rating</th>\n      <th>review</th>\n      <th>rating_review</th>\n      <th>n_review_user</th>\n      <th>n_votes_review</th>\n      <th>score_lang</th>\n      <th>is_bad_review</th>\n    </tr>\n  </thead>\n  <tbody>\n    <tr>\n      <th>0</th>\n      <td>0</td>\n      <td>0</td>\n      <td>AC Hotel by Marriott Nice</td>\n      <td>858676765</td>\n      <td>The best in nice</td>\n      <td>Sep 6</td>\n      <td>Burbank, California</td>\n      <td>armenianburbank</td>\n      <td>/Profile/armenianburbank</td>\n      <td>August 2022</td>\n      <td>4</td>\n      <td>The best thing about this hotel was the manage...</td>\n      <td>4</td>\n      <td>34</td>\n      <td>21</td>\n      <td>en</td>\n      <td>1</td>\n    </tr>\n    <tr>\n      <th>1</th>\n      <td>1</td>\n      <td>1</td>\n      <td>AC Hotel by Marriott Nice</td>\n      <td>852510704</td>\n      <td>Great service</td>\n      <td>Aug 2022</td>\n      <td>L'Orignal, Ontario, Canada</td>\n      <td>Steve C</td>\n      <td>/Profile/P6582SZstevec</td>\n      <td>August 2022</td>\n      <td>5</td>\n      <td>The checkin was easy and swift. Breakfast had ...</td>\n      <td>5</td>\n      <td>23</td>\n      <td>27</td>\n      <td>en</td>\n      <td>0</td>\n    </tr>\n    <tr>\n      <th>2</th>\n      <td>2</td>\n      <td>2</td>\n      <td>AC Hotel by Marriott Nice</td>\n      <td>855890988</td>\n      <td>Good location, unclean room</td>\n      <td>Aug 2022</td>\n      <td>Amsterdam, The Netherlands</td>\n      <td>Tracy B</td>\n      <td>/Profile/TryBry</td>\n      <td>August 2022</td>\n      <td>3</td>\n      <td>Pros: Location, black out curtains, friendly s...</td>\n      <td>3</td>\n      <td>1</td>\n      <td>1</td>\n      <td>en</td>\n      <td>1</td>\n    </tr>\n    <tr>\n      <th>3</th>\n      <td>3</td>\n      <td>3</td>\n      <td>AC Hotel by Marriott Nice</td>\n      <td>855208450</td>\n      <td>No beach beds</td>\n      <td>Aug 2022</td>\n      <td>Disneyland Paris</td>\n      <td>Kiki Y</td>\n      <td>/Profile/77kikiy</td>\n      <td>August 2022</td>\n      <td>2</td>\n      <td>The advertisement that they have beachbeds ava...</td>\n      <td>2</td>\n      <td>26</td>\n      <td>22</td>\n      <td>en</td>\n      <td>1</td>\n    </tr>\n    <tr>\n      <th>4</th>\n      <td>4</td>\n      <td>4</td>\n      <td>AC Hotel by Marriott Nice</td>\n      <td>854313007</td>\n      <td>Unclean room, terrible customer service</td>\n      <td>Aug 2022</td>\n      <td>NaN</td>\n      <td>Jac W</td>\n      <td>/Profile/464jacw</td>\n      <td>July 2022</td>\n      <td>1</td>\n      <td>Had an incredibly frustrating experience and p...</td>\n      <td>1</td>\n      <td>1</td>\n      <td>1</td>\n      <td>en</td>\n      <td>1</td>\n    </tr>\n  </tbody>\n</table>\n</div>"
     },
     "execution_count": 8,
     "metadata": {},
     "output_type": "execute_result"
    }
   ],
   "source": [
    "data.head()"
   ],
   "metadata": {
    "collapsed": false,
    "pycharm": {
     "name": "#%%\n"
    }
   }
  },
  {
   "cell_type": "code",
   "execution_count": 9,
   "outputs": [
    {
     "data": {
      "text/plain": "Hotel Le Six                            500\nHotel Relais Bosquet Paris              500\nHotel L'Elysee Val D'Europe             500\nHotel La Comtesse                       500\nHotel Signature St Germain des Pres     500\n                                       ... \nVilla Les Hydrangeas                     20\nLe Celtique Hotel & Spa                  10\nKyriad Nice - Stade                      10\nHotel Roi Soleil Prestige Strasbourg     10\nHotel Les Volets Rouges - Cassis         10\nName: hotel_name, Length: 88, dtype: int64"
     },
     "execution_count": 9,
     "metadata": {},
     "output_type": "execute_result"
    }
   ],
   "source": [
    "data.hotel_name.value_counts()"
   ],
   "metadata": {
    "collapsed": false,
    "pycharm": {
     "name": "#%%\n"
    }
   }
  },
  {
   "cell_type": "code",
   "execution_count": 10,
   "outputs": [
    {
     "data": {
      "text/plain": "(31880, 17)"
     },
     "execution_count": 10,
     "metadata": {},
     "output_type": "execute_result"
    }
   ],
   "source": [
    "data.shape"
   ],
   "metadata": {
    "collapsed": false,
    "pycharm": {
     "name": "#%%\n"
    }
   }
  },
  {
   "cell_type": "code",
   "execution_count": 11,
   "outputs": [],
   "source": [
    "data['description'] = data.apply(lambda row: str(row.title) + str(row.review), axis=1)"
   ],
   "metadata": {
    "collapsed": false,
    "pycharm": {
     "name": "#%%\n"
    }
   }
  },
  {
   "cell_type": "code",
   "execution_count": 12,
   "outputs": [],
   "source": [
    "def clear_description(description):\n",
    "\n",
    "    # Dividing the texts into small tokens (sentences into words)\n",
    "    description = description.lower()\n",
    "    description_tokens=word_tokenize(description)\n",
    "\n",
    "\n",
    "    filtered_sen = {w for w in description_tokens if not w in sw}\n",
    "    f_set=set()\n",
    "    for fs in filtered_sen:\n",
    "        f_set.add(lemm.lemmatize(fs))\n",
    "\n",
    "    return f_set"
   ],
   "metadata": {
    "collapsed": false,
    "pycharm": {
     "name": "#%%\n"
    }
   }
  },
  {
   "cell_type": "code",
   "execution_count": 13,
   "outputs": [],
   "source": [
    "def comput_similarity(description, input):\n",
    "\n",
    "    input_tokenize = clear_description(input)\n",
    "    similarity = description.apply(lambda x:len(input_tokenize.intersection(x)) )\n",
    "\n",
    "    return  similarity"
   ],
   "metadata": {
    "collapsed": false,
    "pycharm": {
     "name": "#%%\n"
    }
   }
  },
  {
   "cell_type": "code",
   "execution_count": 14,
   "outputs": [],
   "source": [
    "def recommandation(input,top=10):\n",
    "\n",
    "    similarity = comput_similarity(data.description_tokenize, input)\n",
    "    data[\"similarity\"] = similarity\n",
    "    data.sort_values(by=['similarity', 'review'], ascending=False, inplace=True)\n",
    "    data.drop_duplicates('hotel_name',keep='first')\n",
    "\n",
    "    return data.head(top)"
   ],
   "metadata": {
    "collapsed": false,
    "pycharm": {
     "name": "#%%\n"
    }
   }
  },
  {
   "cell_type": "code",
   "execution_count": 15,
   "outputs": [],
   "source": [
    "description_tokenize = data.description.apply(lambda x:clear_description(x))"
   ],
   "metadata": {
    "collapsed": false,
    "pycharm": {
     "name": "#%%\n"
    }
   }
  },
  {
   "cell_type": "code",
   "execution_count": 16,
   "outputs": [],
   "source": [
    "data[\"description_tokenize\"] = description_tokenize"
   ],
   "metadata": {
    "collapsed": false,
    "pycharm": {
     "name": "#%%\n"
    }
   }
  },
  {
   "cell_type": "code",
   "execution_count": 17,
   "outputs": [],
   "source": [
    "col = ['hotel_name', 'title', 'review', 'rating_review', \"description_tokenize\"] # todo select subset of columns"
   ],
   "metadata": {
    "collapsed": false,
    "pycharm": {
     "name": "#%%\n"
    }
   }
  },
  {
   "cell_type": "code",
   "execution_count": 18,
   "outputs": [],
   "source": [
    "input = 'good location free wifi spa'"
   ],
   "metadata": {
    "collapsed": false,
    "pycharm": {
     "name": "#%%\n"
    }
   }
  },
  {
   "cell_type": "code",
   "execution_count": 21,
   "outputs": [],
   "source": [
    "data = data[col].copy()"
   ],
   "metadata": {
    "collapsed": false,
    "pycharm": {
     "name": "#%%\n"
    }
   }
  },
  {
   "cell_type": "code",
   "execution_count": 22,
   "outputs": [
    {
     "data": {
      "text/plain": "                      hotel_name  \\\n1943   Auberge de Cassagne & Spa   \n12962          Hotel Gounod Nice   \n30733       Splendid Hotel & Spa   \n30704       Splendid Hotel & Spa   \n7415          Hotel Boscolo Nice   \n21707       Hotel Palm - Astotel   \n16299           Hotel Le Mareuil   \n28485                    NH Nice   \n10493          Hotel de Provence   \n28171                    NH Nice   \n\n                                                   title  \\\n1943                                        dissapointed   \n12962                             A good choice in Nice.   \n30733                                         Explorario   \n30704                   Great location but average hotel   \n7415                                      Disappointing.   \n21707  This should be a benchmark for all hotels , fa...   \n16299                        nice place to stay in Paris   \n28485                     Great Hotel ! Value for money!   \n10493                                         Cosy Hotel   \n28171    Could give 5* but the wifi wasnt working at all   \n\n                                                  review  rating_review  \\\n1943   i had good expectations for this hotel,unfortu...              2   \n12962  This 3-star hotel, is an pleasant option for N...              3   \n30733  The Bap fam are just about to leave (23aug)the...              4   \n30704  My husband and I recently stayed 3 nights at t...              3   \n7415   An overall poor experience here. First, the go...              2   \n21707  we picked this hotel based on reviews , price ...              5   \n16299  we had three nice room, nice welcome, friendly...              4   \n28485  i stayed at the hotel for 3 nights on April fo...              5   \n10493  When you visit Cannes and don't wish to pay 30...              4   \n28171  What I love about this hotel:The room is moder...              4   \n\n                                    description_tokenize  similarity  \n1943   {view, located, separate, cheese, met, parc, a...           5  \n12962  {located, creates, promanade, access, ”, ’, on...           5  \n30733  {view, accommodated, meal, access, 30, hour, n...           5  \n30704  {kept, another, polite, manager, conversation,...           5  \n7415   {located, anglais.however, negresco, asked, co...           5  \n21707  {right, usefull, maybe, arrive, 10mins, access...           4  \n16299  {three, pariswe, stay, place, hotel, bathroom,...           4  \n28485  {wifi, restaurant, basic, bar, stay, mainly, a...           4  \n10493  {right, take, cheese, boulevard, outside, saw,...           4  \n28171  {located, see, asked, guardian, access, app, t...           4  ",
      "text/html": "<div>\n<style scoped>\n    .dataframe tbody tr th:only-of-type {\n        vertical-align: middle;\n    }\n\n    .dataframe tbody tr th {\n        vertical-align: top;\n    }\n\n    .dataframe thead th {\n        text-align: right;\n    }\n</style>\n<table border=\"1\" class=\"dataframe\">\n  <thead>\n    <tr style=\"text-align: right;\">\n      <th></th>\n      <th>hotel_name</th>\n      <th>title</th>\n      <th>review</th>\n      <th>rating_review</th>\n      <th>description_tokenize</th>\n      <th>similarity</th>\n    </tr>\n  </thead>\n  <tbody>\n    <tr>\n      <th>1943</th>\n      <td>Auberge de Cassagne &amp; Spa</td>\n      <td>dissapointed</td>\n      <td>i had good expectations for this hotel,unfortu...</td>\n      <td>2</td>\n      <td>{view, located, separate, cheese, met, parc, a...</td>\n      <td>5</td>\n    </tr>\n    <tr>\n      <th>12962</th>\n      <td>Hotel Gounod Nice</td>\n      <td>A good choice in Nice.</td>\n      <td>This 3-star hotel, is an pleasant option for N...</td>\n      <td>3</td>\n      <td>{located, creates, promanade, access, ”, ’, on...</td>\n      <td>5</td>\n    </tr>\n    <tr>\n      <th>30733</th>\n      <td>Splendid Hotel &amp; Spa</td>\n      <td>Explorario</td>\n      <td>The Bap fam are just about to leave (23aug)the...</td>\n      <td>4</td>\n      <td>{view, accommodated, meal, access, 30, hour, n...</td>\n      <td>5</td>\n    </tr>\n    <tr>\n      <th>30704</th>\n      <td>Splendid Hotel &amp; Spa</td>\n      <td>Great location but average hotel</td>\n      <td>My husband and I recently stayed 3 nights at t...</td>\n      <td>3</td>\n      <td>{kept, another, polite, manager, conversation,...</td>\n      <td>5</td>\n    </tr>\n    <tr>\n      <th>7415</th>\n      <td>Hotel Boscolo Nice</td>\n      <td>Disappointing.</td>\n      <td>An overall poor experience here. First, the go...</td>\n      <td>2</td>\n      <td>{located, anglais.however, negresco, asked, co...</td>\n      <td>5</td>\n    </tr>\n    <tr>\n      <th>21707</th>\n      <td>Hotel Palm - Astotel</td>\n      <td>This should be a benchmark for all hotels , fa...</td>\n      <td>we picked this hotel based on reviews , price ...</td>\n      <td>5</td>\n      <td>{right, usefull, maybe, arrive, 10mins, access...</td>\n      <td>4</td>\n    </tr>\n    <tr>\n      <th>16299</th>\n      <td>Hotel Le Mareuil</td>\n      <td>nice place to stay in Paris</td>\n      <td>we had three nice room, nice welcome, friendly...</td>\n      <td>4</td>\n      <td>{three, pariswe, stay, place, hotel, bathroom,...</td>\n      <td>4</td>\n    </tr>\n    <tr>\n      <th>28485</th>\n      <td>NH Nice</td>\n      <td>Great Hotel ! Value for money!</td>\n      <td>i stayed at the hotel for 3 nights on April fo...</td>\n      <td>5</td>\n      <td>{wifi, restaurant, basic, bar, stay, mainly, a...</td>\n      <td>4</td>\n    </tr>\n    <tr>\n      <th>10493</th>\n      <td>Hotel de Provence</td>\n      <td>Cosy Hotel</td>\n      <td>When you visit Cannes and don't wish to pay 30...</td>\n      <td>4</td>\n      <td>{right, take, cheese, boulevard, outside, saw,...</td>\n      <td>4</td>\n    </tr>\n    <tr>\n      <th>28171</th>\n      <td>NH Nice</td>\n      <td>Could give 5* but the wifi wasnt working at all</td>\n      <td>What I love about this hotel:The room is moder...</td>\n      <td>4</td>\n      <td>{located, see, asked, guardian, access, app, t...</td>\n      <td>4</td>\n    </tr>\n  </tbody>\n</table>\n</div>"
     },
     "execution_count": 22,
     "metadata": {},
     "output_type": "execute_result"
    }
   ],
   "source": [
    "recommandation( input)"
   ],
   "metadata": {
    "collapsed": false,
    "pycharm": {
     "name": "#%%\n"
    }
   }
  },
  {
   "cell_type": "code",
   "execution_count": 23,
   "outputs": [],
   "source": [
    "import gradio as gr"
   ],
   "metadata": {
    "collapsed": false,
    "pycharm": {
     "name": "#%%\n"
    }
   }
  },
  {
   "cell_type": "code",
   "execution_count": 27,
   "outputs": [
    {
     "name": "stdout",
     "output_type": "stream",
     "text": [
      "Running on local URL:  http://127.0.0.1:7863\n",
      "\n",
      "To create a public link, set `share=True` in `launch()`.\n"
     ]
    },
    {
     "data": {
      "text/plain": "<IPython.core.display.HTML object>",
      "text/html": "<div><iframe src=\"http://127.0.0.1:7863/\" width=\"100%\" height=\"500\" allow=\"autoplay; camera; microphone; clipboard-read; clipboard-write;\" frameborder=\"0\" allowfullscreen></iframe></div>"
     },
     "metadata": {},
     "output_type": "display_data"
    },
    {
     "data": {
      "text/plain": ""
     },
     "execution_count": 27,
     "metadata": {},
     "output_type": "execute_result"
    }
   ],
   "source": [
    "\n",
    "\n",
    "def greet(name):\n",
    "    return \"Hello \" + name + \"!\"\n",
    "\n",
    "demo = gr.Interface(\n",
    "    fn=greet,\n",
    "    inputs=gr.Textbox(lines=2, placeholder=\"Name Here...\"),\n",
    "    outputs=\"text\",\n",
    ")\n",
    "demo.launch()"
   ],
   "metadata": {
    "collapsed": false,
    "pycharm": {
     "name": "#%%\n"
    }
   }
  },
  {
   "cell_type": "code",
   "execution_count": null,
   "outputs": [],
   "source": [],
   "metadata": {
    "collapsed": false,
    "pycharm": {
     "name": "#%%\n"
    }
   }
  },
  {
   "cell_type": "code",
   "execution_count": null,
   "outputs": [],
   "source": [],
   "metadata": {
    "collapsed": false,
    "pycharm": {
     "name": "#%%\n"
    }
   }
  },
  {
   "cell_type": "code",
   "execution_count": null,
   "outputs": [],
   "source": [
    "demo = gr.Interface(\n",
    "    fn=recommandation,\n",
    "    inputs=gr.Textbox(lines=2, placeholder=\"Name Here...\"),\n",
    "    outputs=\"text\",\n",
    ")\n",
    "demo.launch()"
   ],
   "metadata": {
    "collapsed": false,
    "pycharm": {
     "name": "#%%\n"
    }
   }
  },
  {
   "cell_type": "code",
   "execution_count": null,
   "outputs": [],
   "source": [],
   "metadata": {
    "collapsed": false,
    "pycharm": {
     "name": "#%%\n"
    }
   }
  }
 ],
 "metadata": {
  "kernelspec": {
   "display_name": "Python 3",
   "language": "python",
   "name": "python3"
  },
  "language_info": {
   "codemirror_mode": {
    "name": "ipython",
    "version": 2
   },
   "file_extension": ".py",
   "mimetype": "text/x-python",
   "name": "python",
   "nbconvert_exporter": "python",
   "pygments_lexer": "ipython2",
   "version": "2.7.6"
  }
 },
 "nbformat": 4,
 "nbformat_minor": 0
}